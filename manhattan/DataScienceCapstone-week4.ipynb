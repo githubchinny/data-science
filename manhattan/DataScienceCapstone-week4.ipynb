{
 "cells": [
  {
   "cell_type": "markdown",
   "metadata": {},
   "source": [
    "# Coursera Battle of the neighbourhoods \n",
    "## Opening a new Jazz Club in Manhattan\n",
    "\n",
    "\n",
    "\n",
    "\n",
    "Author: Mark Chinnock   \n",
    "Date: June 2020\n",
    "\n",
    "\n",
    "\n",
    "### Content\n",
    "\n",
    "1.\tIntroduction \n",
    "\t\n",
    "    1.1 Discussion of the \"backgroung situation\" leading to the problem at hand:\n",
    "    \n",
    "    1.2 Problem to be resolved\n",
    "    \n",
    "    1.3 Audience for this project.\n",
    "    \n",
    "    \n",
    "2.\tData\n",
    "\n",
    "\t2.1 Data required to resolve the problem\n",
    "    \n",
    "    2.2 Data sources and data manipulation\n",
    "    \n",
    "  "
   ]
  },
  {
   "cell_type": "markdown",
   "metadata": {},
   "source": [
    "# 1. Introduction\n",
    "I am a successful Jazz musician wanting to move to New York City.  I have limited knowledge of the area but I would like to open a new venue of my own in Manhattan.  I want to locate my venue away from other clubs but in a similar neighborhood."
   ]
  },
  {
   "cell_type": "markdown",
   "metadata": {},
   "source": [
    "## 1.1 Background situation\n",
    "Where is the best location to open a new Jazz Club in Manhattan?  Determine similar neighborhoods to where existing Jazz venues are."
   ]
  },
  {
   "cell_type": "markdown",
   "metadata": {},
   "source": [
    "## 1.2 Business Understanding\n",
    "The business understanding is to identify which neighborhood(s) are a best location, based on: \n",
    "- Finding where existing Jazz Clubs are currently located \n",
    "- Discovering what type of neighborhood category they are in\n",
    "- Find a similar neighborhood that doesn't currently have a Jazz Venue "
   ]
  },
  {
   "cell_type": "markdown",
   "metadata": {},
   "source": [
    "## 1.3 Audience\n",
    "The target audience for this would be anyone considering moving to Manhattan without detailed knowledge of the area.  This report is a specific study on Jazz Club categories but this approach and the search criteria could easily be amended to repeat the exercise for a different category of venue.\n"
   ]
  },
  {
   "cell_type": "markdown",
   "metadata": {},
   "source": [
    "# 2. Data\n",
    "To investigate this problem we will need the following datasets of information:\n",
    "* List of neighborhoods in Manhattan\n",
    "* Location of existing Jazz Clubs and other venues\n",
    "\n",
    "Using the neighborhood data from the dataset previously provided on this course (https://cocl.us/new_york_dataset) we can obtain the geo coordinates of the Manhattan neighborhoods and store the following information:  \n",
    "\n",
    "\n",
    " \tBorough \tNeighborhood \tLatitude \tLongitude\n",
    "6 \tManhattan \tMarble Hill \t40.876551 \t-73.910660   \n",
    "100 \tManhattan \tChinatown \t40.715618 \t-73.994279   \n",
    "101 \tManhattan \tWashington Heights \t40.851903 \t-73.936900   \n",
    "\n",
    "This data provides:\n",
    "1. Borough name - eg Manhattan\n",
    "2. Neighborhood - eg marble hill, highlights the area within Manhattan\n",
    "3. Latitude - latitude coordinate for mapping\n",
    "4. Longitude - longitude coordinate for mapping\n"
   ]
  },
  {
   "cell_type": "markdown",
   "metadata": {},
   "source": [
    "We can explore the foursquare database using the API call with Manhattan coordinates and retrieve all the existing venues in the area, including Jazz clubs"
   ]
  },
  {
   "cell_type": "markdown",
   "metadata": {},
   "source": [
    "`address = 'Manhattan, NY'\n",
    "\n",
    "geolocator = Nominatim(user_agent=\"foursquare_agent\")\n",
    "location = geolocator.geocode(address)\n",
    "latitude = location.latitude\n",
    "longitude = location.longitude\n",
    "print(latitude, longitude)`"
   ]
  },
  {
   "cell_type": "markdown",
   "metadata": {},
   "source": [
    "`search_query = 'Jazz Club'\n",
    "\n",
    "print(search_query + ' .... OK!')\n",
    "\n",
    "url = 'https://api.foursquare.com/v2/venues/search?client_id={}&client_secret={}&ll={},{}&v={}&query={}'.format(\n",
    "    CLIENT_ID, \n",
    "    CLIENT_SECRET, \n",
    "    latitude, \n",
    "    longitude, \n",
    "    VERSION, \n",
    "    search_query, \n",
    "    LIMIT\n",
    "    )\n",
    "\n",
    "results = requests.get(url).json()`"
   ]
  },
  {
   "cell_type": "markdown",
   "metadata": {},
   "source": [
    "Here is an example of the data returned from foursquare search API"
   ]
  },
  {
   "cell_type": "markdown",
   "metadata": {},
   "source": [
    "{'meta': {'code': 200, 'requestId': '5edf37fded78b8001b6bfcdd'},\n",
    " 'response': {'venues': [{'id': '54ed2952498ec36f92b69d0c',\n",
    "    'name': \"Dizzy's Jazz Club\",\n",
    "    'location': {'address': '10 Columbus Cir',\n",
    "     'lat': 40.768764,\n",
    "     'lng': -73.982944,\n",
    "     'labeledLatLngs': [{'label': 'display',\n",
    "       'lat': 40.768764,\n",
    "       'lng': -73.982944}],\n",
    "     'distance': 3027,\n",
    "     'postalCode': '10019',\n",
    "     'cc': 'US',\n",
    "     'neighborhood': \"Hell's Kitchen\",\n",
    "     'city': 'New York',\n",
    "     'state': 'NY',\n",
    "     'country': 'United States',\n",
    "     'formattedAddress': ['10 Columbus Cir',\n",
    "      'New York, NY 10019',\n",
    "      'United States']},\n",
    "    'categories': [{'id': '4bf58dd8d48988d1e7931735',\n",
    "      'name': 'Jazz Club',\n",
    "      'pluralName': 'Jazz Clubs',\n",
    "      'shortName': 'Jazz Club',\n",
    "      'icon': {'prefix': 'https://ss3.4sqi.net/img/categories_v2/arts_entertainment/musicvenue_jazzclub_',\n",
    "       'suffix': '.png'},\n",
    "      'primary': True}],\n",
    "    'referralId': 'v-1591687367',\n",
    "    'hasPerk': False},\n",
    "   {'id': '4aca81a1f964a52028c220e3',\n",
    "    'name': \"Cecil's Jazz Club & Restaurant\",\n",
    "    'location': {'address': '364 Valley Rd',\n",
    "     'lat': 40.77451572910885,\n",
    "     'lng': -74.23987875864671,\n",
    "     'labeledLatLngs': [{'label': 'display',\n",
    "       'lat': 40.77451572910885,\n",
    "       'lng': -74.23987875864671},\n",
    "      {'label': 'entrance', 'lat': 40.774557, 'lng': -74.239832}],\n",
    "     'distance': 23659,\n",
    "     'postalCode': '07052',\n",
    "     'cc': 'US',\n",
    "     'city': 'West Orange',\n",
    "     'state': 'NJ',\n",
    "     'country': 'United States',\n",
    "     'formattedAddress': ['364 Valley Rd',\n",
    "      'West Orange, NJ 07052',\n",
    "      'United States']},\n",
    "    'categories': [{'id': '4bf58dd8d48988d1e7931735',\n",
    "      'name': 'Jazz Club',\n",
    "      'pluralName': 'Jazz Clubs',\n",
    "      'shortName': 'Jazz Club',\n",
    "      'icon': {'prefix': 'https://ss3.4sqi.net/img/categories_v2/arts_entertainment/musicvenue_jazzclub_',\n",
    "       'suffix': '.png'},\n",
    "      'primary': True}],\n",
    "    'referralId': 'v-1591687367',\n",
    "    'hasPerk': False},"
   ]
  },
  {
   "cell_type": "markdown",
   "metadata": {},
   "source": [
    "From this we can extract the following useful features:\n",
    "1. venue name\n",
    "2. venue location\n",
    "3. venue address\n",
    "4. distance from search coordinates\n",
    "..."
   ]
  },
  {
   "cell_type": "markdown",
   "metadata": {},
   "source": [
    "The neighborhood data will be compared using the venue data within to produce clusters of similar neighborhoods.  The Jazz Club venues will then be placed in those clusters to see whether there is a pattern of cluster for a venue such as a jazz Club to help form a recommendation."
   ]
  },
  {
   "cell_type": "code",
   "execution_count": null,
   "metadata": {},
   "outputs": [],
   "source": []
  }
 ],
 "metadata": {
  "kernelspec": {
   "display_name": "Python 3",
   "language": "python",
   "name": "python3"
  },
  "language_info": {
   "codemirror_mode": {
    "name": "ipython",
    "version": 3
   },
   "file_extension": ".py",
   "mimetype": "text/x-python",
   "name": "python",
   "nbconvert_exporter": "python",
   "pygments_lexer": "ipython3",
   "version": "3.8.3"
  }
 },
 "nbformat": 4,
 "nbformat_minor": 4
}
