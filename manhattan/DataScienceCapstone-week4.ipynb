{
 "cells": [
  {
   "cell_type": "markdown",
   "metadata": {},
   "source": [
    "# Coursera Battle of the neighbourhoods \n",
    "## Opening a new Jazz Club in Manhattan\n",
    "\n",
    "\n",
    "\n",
    "\n",
    "Author: Mark Chinnock   \n",
    "Date: June 2020\n",
    "\n",
    "\n",
    "\n",
    "### Content\n",
    "\n",
    "1.\tIntroduction \n",
    "\t\n",
    "    1.1 Discussion of the \"backgroung situation\" leading to the problem at hand:\n",
    "    \n",
    "    1.2 Problem to be resolved\n",
    "    \n",
    "    1.3 Audience for this project.\n",
    "    \n",
    "    \n",
    "2.\tData\n",
    "\n",
    "\t2.1 Data required to resolve the problem\n",
    "    \n",
    "    2.2 Data sources and data manipulation\n",
    "    \n",
    "  "
   ]
  },
  {
   "cell_type": "markdown",
   "metadata": {},
   "source": [
    "# 1. Introduction\n",
    "I am a successful Jazz musician wanting to move to New York City.  I have limited knowledge of the area but I would like to open a new venue of my own in Manhattan.  I want to locate my venue away from other clubs but in a similar neighborhood"
   ]
  },
  {
   "cell_type": "markdown",
   "metadata": {},
   "source": [
    "## 1.1 Background situation\n",
    "Where is the best location to open a new Jazz Club in Manhattan?  Determine similar neighborhoods to where existing Jazz venues are."
   ]
  },
  {
   "cell_type": "markdown",
   "metadata": {},
   "source": [
    "## 1.2 Business Understanding\n",
    "The business understanding is to identify which neighborhood(s) are a best location, based on: \n",
    "- Finding where existing Jazz Clubs are currently located \n",
    "- Discovering what type of neighborhood category they are in\n",
    "- Find a similar neighborhood that doesn't currently have a Jazz Venue "
   ]
  },
  {
   "cell_type": "markdown",
   "metadata": {},
   "source": [
    "## 1.3 Audience\n",
    "The target audience for this would be anyone considering moving to Manhattan without detailed knowledge of the area.  This report is a specific study on Jazz Club categories but this approach and the search criteria could easily be amended to repeat the exercise for a different category of venue.\n"
   ]
  },
  {
   "cell_type": "markdown",
   "metadata": {},
   "source": [
    "# 2. Data\n",
    "To investigate this problem we will need the following datasets of information:\n",
    "* List of neighborhoods in Manhattan\n",
    "* Location of existing Jazz Clubs and other venues\n",
    "\n",
    "Using the neighborhood data from the dataset previously provided on this course (https://cocl.us/new_york_dataset) we can obtain the geo coordinates of the Manhattan neighborhoods and store the following information:  \n",
    "\n",
    "\n",
    "\tBorough \tNeighborhood \tLatitude \tLongitude\n",
    "\n"
   ]
  },
  {
   "cell_type": "markdown",
   "metadata": {},
   "source": [
    "We can explore the foursquare database using the API call with Manhattan coordinates and retrieve all the existing venues in the area, including Jazz clubs"
   ]
  },
  {
   "cell_type": "markdown",
   "metadata": {},
   "source": [
    "`address = 'Manhattan, NY'\n",
    "\n",
    "geolocator = Nominatim(user_agent=\"foursquare_agent\")\n",
    "location = geolocator.geocode(address)\n",
    "latitude = location.latitude\n",
    "longitude = location.longitude\n",
    "print(latitude, longitude)`"
   ]
  },
  {
   "cell_type": "markdown",
   "metadata": {},
   "source": [
    "`search_query = 'Jazz Club'\n",
    "\n",
    "print(search_query + ' .... OK!')\n",
    "\n",
    "url = 'https://api.foursquare.com/v2/venues/search?client_id={}&client_secret={}&ll={},{}&v={}&query={}'.format(\n",
    "    CLIENT_ID, \n",
    "    CLIENT_SECRET, \n",
    "    latitude, \n",
    "    longitude, \n",
    "    VERSION, \n",
    "    search_query, \n",
    "    LIMIT\n",
    "    )\n",
    "\n",
    "results = requests.get(url).json()`"
   ]
  },
  {
   "cell_type": "markdown",
   "metadata": {},
   "source": [
    " \tBorough \tNeighborhood \tLatitude \tLongitude \tCluster Labels \t1st Most Common Venue \t2nd Most Common Venue \t3rd Most Common Venue \t4th Most Common Venue \t5th Most Common Venue \t6th Most Common Venue \t7th Most Common Venue \t8th Most Common Venue \t9th Most Common Venue \t10th Most Common Venue\n",
    "105 \tManhattan \tCentral Harlem \t40.815976 \t-73.943211 \t0 \tAfrican Restaurant \tBar \tSeafood Restaurant \tAmerican Restaurant \tGym / Fitness Center \tFrench Restaurant \tChinese Restaurant \tCosmetics Shop \tCaribbean Restaurant \tDessert Shop\n",
    "107 \tManhattan \tUpper East Side \t40.775639 \t-73.960508 \t0 \tItalian Restaurant \tCoffee Shop \tBakery \tGym / Fitness Center \tFrench Restaurant \tYoga Studio \tJuice Bar \tSpa \tHotel \tMexican Restaurant\n",
    "117 \tManhattan \tGreenwich Village \t40.726933 \t-73.999914 \t0 \tItalian Restaurant \tSushi Restaurant \tCafé \tGym \tChinese Restaurant \tBurger Joint \tPizza Place \tCoffee Shop \tIndie Movie Theater \tIce Cream Shop\n",
    "118 \tManhattan \tEast Village \t40.727847 \t-73.982226 \t0 \tBar \tMexican Restaurant \tCocktail Bar \tCoffee Shop \tSpeakeasy \tWine Bar \tJuice Bar \tIce Cream Shop \tPizza Place \tRamen Restaurant\n",
    "123 \tManhattan \tWest Village \t40.734434 \t-74.006180 \t0 \tItalian Restaurant \tWine Bar \tNew American Restaurant \tAmerican Restaurant \tBakery \tCocktail Bar \tPark \tPizza Place \tJazz Club \tCoffee Shop\n"
   ]
  },
  {
   "cell_type": "markdown",
   "metadata": {},
   "source": [
    "The neighborhood data will be compared using the venue data within to produce clusters of similar neighborhoods.  The Jazz Club venues will then be placed in those clusters to see whether there is a pattern of cluster for a venue such as a jazz Club to help form a recommendation."
   ]
  },
  {
   "cell_type": "code",
   "execution_count": null,
   "metadata": {},
   "outputs": [],
   "source": []
  }
 ],
 "metadata": {
  "kernelspec": {
   "display_name": "Python 3",
   "language": "python",
   "name": "python3"
  },
  "language_info": {
   "codemirror_mode": {
    "name": "ipython",
    "version": 3
   },
   "file_extension": ".py",
   "mimetype": "text/x-python",
   "name": "python",
   "nbconvert_exporter": "python",
   "pygments_lexer": "ipython3",
   "version": "3.8.3"
  }
 },
 "nbformat": 4,
 "nbformat_minor": 4
}
